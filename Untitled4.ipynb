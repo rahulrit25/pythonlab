{
  "nbformat": 4,
  "nbformat_minor": 0,
  "metadata": {
    "colab": {
      "name": "Untitled4.ipynb",
      "provenance": [],
      "authorship_tag": "ABX9TyO/gwJnh2V4Ah9/+dWfM++b",
      "include_colab_link": true
    },
    "kernelspec": {
      "name": "python3",
      "display_name": "Python 3"
    },
    "language_info": {
      "name": "python"
    }
  },
  "cells": [
    {
      "cell_type": "markdown",
      "metadata": {
        "id": "view-in-github",
        "colab_type": "text"
      },
      "source": [
        "<a href=\"https://colab.research.google.com/github/rahulrit25/pythonlab/blob/main/Untitled4.ipynb\" target=\"_parent\"><img src=\"https://colab.research.google.com/assets/colab-badge.svg\" alt=\"Open In Colab\"/></a>"
      ]
    },
    {
      "cell_type": "code",
      "execution_count": 1,
      "metadata": {
        "id": "lxajPaEbqD3j"
      },
      "outputs": [],
      "source": [
        "import numpy as np\n",
        "import pandas as pd\n",
        "import matplotlib.pyplot as plt\n",
        "import seaborn as sns"
      ]
    },
    {
      "cell_type": "code",
      "source": [
        "data=pd.read_csv('CapitalReceipts2021.csv')\n",
        "data.info()"
      ],
      "metadata": {
        "colab": {
          "base_uri": "https://localhost:8080/"
        },
        "id": "UPslsTfyquLG",
        "outputId": "6a3b34d7-ce9f-46e4-ca2a-5c0d69c00f7f"
      },
      "execution_count": 5,
      "outputs": [
        {
          "output_type": "stream",
          "name": "stdout",
          "text": [
            "<class 'pandas.core.frame.DataFrame'>\n",
            "RangeIndex: 195 entries, 0 to 194\n",
            "Data columns (total 9 columns):\n",
            " #   Column              Non-Null Count  Dtype  \n",
            "---  ------              --------------  -----  \n",
            " 0   Category            195 non-null    object \n",
            " 1   Sub-Category        195 non-null    object \n",
            " 2   Sl.No.              195 non-null    object \n",
            " 3   Tax Revenue         195 non-null    object \n",
            " 4   Major Head          151 non-null    object \n",
            " 5   Actuals 2019-2020   124 non-null    float64\n",
            " 6   Budget 2020-2021    120 non-null    float64\n",
            " 7   Revised  2020-2021  117 non-null    float64\n",
            " 8   Budget 2021-2022    120 non-null    float64\n",
            "dtypes: float64(4), object(5)\n",
            "memory usage: 13.8+ KB\n"
          ]
        }
      ]
    },
    {
      "cell_type": "code",
      "source": [
        "data.describe()"
      ],
      "metadata": {
        "colab": {
          "base_uri": "https://localhost:8080/",
          "height": 300
        },
        "id": "gHvXwI9yrMpB",
        "outputId": "e92e0997-eff0-4d79-bf9f-f039c5561dfd"
      },
      "execution_count": 6,
      "outputs": [
        {
          "output_type": "execute_result",
          "data": {
            "text/html": [
              "<div>\n",
              "<style scoped>\n",
              "    .dataframe tbody tr th:only-of-type {\n",
              "        vertical-align: middle;\n",
              "    }\n",
              "\n",
              "    .dataframe tbody tr th {\n",
              "        vertical-align: top;\n",
              "    }\n",
              "\n",
              "    .dataframe thead th {\n",
              "        text-align: right;\n",
              "    }\n",
              "</style>\n",
              "<table border=\"1\" class=\"dataframe\">\n",
              "  <thead>\n",
              "    <tr style=\"text-align: right;\">\n",
              "      <th></th>\n",
              "      <th>Actuals 2019-2020</th>\n",
              "      <th>Budget 2020-2021</th>\n",
              "      <th>Revised  2020-2021</th>\n",
              "      <th>Budget 2021-2022</th>\n",
              "    </tr>\n",
              "  </thead>\n",
              "  <tbody>\n",
              "    <tr>\n",
              "      <th>count</th>\n",
              "      <td>1.240000e+02</td>\n",
              "      <td>1.200000e+02</td>\n",
              "      <td>1.170000e+02</td>\n",
              "      <td>1.200000e+02</td>\n",
              "    </tr>\n",
              "    <tr>\n",
              "      <th>mean</th>\n",
              "      <td>3.950488e+04</td>\n",
              "      <td>3.955485e+04</td>\n",
              "      <td>7.938783e+04</td>\n",
              "      <td>6.622010e+04</td>\n",
              "    </tr>\n",
              "    <tr>\n",
              "      <th>std</th>\n",
              "      <td>5.536408e+05</td>\n",
              "      <td>6.060448e+05</td>\n",
              "      <td>6.668894e+05</td>\n",
              "      <td>6.400718e+05</td>\n",
              "    </tr>\n",
              "    <tr>\n",
              "      <th>min</th>\n",
              "      <td>-3.322613e+06</td>\n",
              "      <td>-3.851004e+06</td>\n",
              "      <td>-3.690707e+06</td>\n",
              "      <td>-3.604160e+06</td>\n",
              "    </tr>\n",
              "    <tr>\n",
              "      <th>25%</th>\n",
              "      <td>-2.778225e+02</td>\n",
              "      <td>-8.718550e+02</td>\n",
              "      <td>-1.390800e+03</td>\n",
              "      <td>-1.084453e+03</td>\n",
              "    </tr>\n",
              "    <tr>\n",
              "      <th>50%</th>\n",
              "      <td>9.245200e+02</td>\n",
              "      <td>7.170000e+02</td>\n",
              "      <td>5.640000e+02</td>\n",
              "      <td>1.016005e+03</td>\n",
              "    </tr>\n",
              "    <tr>\n",
              "      <th>75%</th>\n",
              "      <td>1.483517e+04</td>\n",
              "      <td>1.232434e+04</td>\n",
              "      <td>2.061054e+04</td>\n",
              "      <td>2.342983e+04</td>\n",
              "    </tr>\n",
              "    <tr>\n",
              "      <th>max</th>\n",
              "      <td>3.355188e+06</td>\n",
              "      <td>3.851004e+06</td>\n",
              "      <td>3.690707e+06</td>\n",
              "      <td>3.604160e+06</td>\n",
              "    </tr>\n",
              "  </tbody>\n",
              "</table>\n",
              "</div>"
            ],
            "text/plain": [
              "       Actuals 2019-2020  ...  Budget 2021-2022\n",
              "count       1.240000e+02  ...      1.200000e+02\n",
              "mean        3.950488e+04  ...      6.622010e+04\n",
              "std         5.536408e+05  ...      6.400718e+05\n",
              "min        -3.322613e+06  ...     -3.604160e+06\n",
              "25%        -2.778225e+02  ...     -1.084453e+03\n",
              "50%         9.245200e+02  ...      1.016005e+03\n",
              "75%         1.483517e+04  ...      2.342983e+04\n",
              "max         3.355188e+06  ...      3.604160e+06\n",
              "\n",
              "[8 rows x 4 columns]"
            ]
          },
          "metadata": {},
          "execution_count": 6
        }
      ]
    },
    {
      "cell_type": "code",
      "source": [
        "data.head()"
      ],
      "metadata": {
        "colab": {
          "base_uri": "https://localhost:8080/",
          "height": 310
        },
        "id": "apa0hy_1tO6B",
        "outputId": "e5514253-0424-4681-c08d-af6a8c73fb85"
      },
      "execution_count": 7,
      "outputs": [
        {
          "output_type": "execute_result",
          "data": {
            "text/html": [
              "<div>\n",
              "<style scoped>\n",
              "    .dataframe tbody tr th:only-of-type {\n",
              "        vertical-align: middle;\n",
              "    }\n",
              "\n",
              "    .dataframe tbody tr th {\n",
              "        vertical-align: top;\n",
              "    }\n",
              "\n",
              "    .dataframe thead th {\n",
              "        text-align: right;\n",
              "    }\n",
              "</style>\n",
              "<table border=\"1\" class=\"dataframe\">\n",
              "  <thead>\n",
              "    <tr style=\"text-align: right;\">\n",
              "      <th></th>\n",
              "      <th>Category</th>\n",
              "      <th>Sub-Category</th>\n",
              "      <th>Sl.No.</th>\n",
              "      <th>Tax Revenue</th>\n",
              "      <th>Major Head</th>\n",
              "      <th>Actuals 2019-2020</th>\n",
              "      <th>Budget 2020-2021</th>\n",
              "      <th>Revised  2020-2021</th>\n",
              "      <th>Budget 2021-2022</th>\n",
              "    </tr>\n",
              "  </thead>\n",
              "  <tbody>\n",
              "    <tr>\n",
              "      <th>0</th>\n",
              "      <td>Non Debt Receipts</td>\n",
              "      <td>1. Recoveries of Loans &amp; Advances</td>\n",
              "      <td>1.01</td>\n",
              "      <td>State Governments</td>\n",
              "      <td>NaN</td>\n",
              "      <td>NaN</td>\n",
              "      <td>NaN</td>\n",
              "      <td>NaN</td>\n",
              "      <td>NaN</td>\n",
              "    </tr>\n",
              "    <tr>\n",
              "      <th>1</th>\n",
              "      <td>Non Debt Receipts</td>\n",
              "      <td>1. Recoveries of Loans &amp; Advances</td>\n",
              "      <td>1.01.01</td>\n",
              "      <td>Gross Receipts</td>\n",
              "      <td>7601</td>\n",
              "      <td>15550.89</td>\n",
              "      <td>12399.34</td>\n",
              "      <td>8957.13</td>\n",
              "      <td>8989.14</td>\n",
              "    </tr>\n",
              "    <tr>\n",
              "      <th>2</th>\n",
              "      <td>Non Debt Receipts</td>\n",
              "      <td>1. Recoveries of Loans &amp; Advances</td>\n",
              "      <td>1.01.02</td>\n",
              "      <td>Recoveries</td>\n",
              "      <td>7601</td>\n",
              "      <td>NaN</td>\n",
              "      <td>-100.00</td>\n",
              "      <td>-100.00</td>\n",
              "      <td>-100.00</td>\n",
              "    </tr>\n",
              "    <tr>\n",
              "      <th>3</th>\n",
              "      <td>Non Debt Receipts</td>\n",
              "      <td>1. Recoveries of Loans &amp; Advances</td>\n",
              "      <td>Net-State Governments</td>\n",
              "      <td>Net-State Governments</td>\n",
              "      <td>Net-State Governments</td>\n",
              "      <td>15550.89</td>\n",
              "      <td>12299.34</td>\n",
              "      <td>8857.13</td>\n",
              "      <td>8889.14</td>\n",
              "    </tr>\n",
              "    <tr>\n",
              "      <th>4</th>\n",
              "      <td>Non Debt Receipts</td>\n",
              "      <td>1. Recoveries of Loans &amp; Advances</td>\n",
              "      <td>1.02</td>\n",
              "      <td>Union Territories (With Legislature)</td>\n",
              "      <td>7602</td>\n",
              "      <td>72.00</td>\n",
              "      <td>100.00</td>\n",
              "      <td>100.00</td>\n",
              "      <td>100.00</td>\n",
              "    </tr>\n",
              "  </tbody>\n",
              "</table>\n",
              "</div>"
            ],
            "text/plain": [
              "            Category  ... Budget 2021-2022\n",
              "0  Non Debt Receipts  ...              NaN\n",
              "1  Non Debt Receipts  ...          8989.14\n",
              "2  Non Debt Receipts  ...          -100.00\n",
              "3  Non Debt Receipts  ...          8889.14\n",
              "4  Non Debt Receipts  ...           100.00\n",
              "\n",
              "[5 rows x 9 columns]"
            ]
          },
          "metadata": {},
          "execution_count": 7
        }
      ]
    },
    {
      "cell_type": "code",
      "source": [
        "data[data['Tax Revenue']=='State Goverments']"
      ],
      "metadata": {
        "colab": {
          "base_uri": "https://localhost:8080/",
          "height": 50
        },
        "id": "TZSjkuTPte56",
        "outputId": "c7aa7ce7-ee52-4a8b-a7ab-25230491ca93"
      },
      "execution_count": 9,
      "outputs": [
        {
          "output_type": "execute_result",
          "data": {
            "text/html": [
              "<div>\n",
              "<style scoped>\n",
              "    .dataframe tbody tr th:only-of-type {\n",
              "        vertical-align: middle;\n",
              "    }\n",
              "\n",
              "    .dataframe tbody tr th {\n",
              "        vertical-align: top;\n",
              "    }\n",
              "\n",
              "    .dataframe thead th {\n",
              "        text-align: right;\n",
              "    }\n",
              "</style>\n",
              "<table border=\"1\" class=\"dataframe\">\n",
              "  <thead>\n",
              "    <tr style=\"text-align: right;\">\n",
              "      <th></th>\n",
              "      <th>Category</th>\n",
              "      <th>Sub-Category</th>\n",
              "      <th>Sl.No.</th>\n",
              "      <th>Tax Revenue</th>\n",
              "      <th>Major Head</th>\n",
              "      <th>Actuals 2019-2020</th>\n",
              "      <th>Budget 2020-2021</th>\n",
              "      <th>Revised  2020-2021</th>\n",
              "      <th>Budget 2021-2022</th>\n",
              "    </tr>\n",
              "  </thead>\n",
              "  <tbody>\n",
              "  </tbody>\n",
              "</table>\n",
              "</div>"
            ],
            "text/plain": [
              "Empty DataFrame\n",
              "Columns: [Category, Sub-Category, Sl.No., Tax Revenue, Major Head, Actuals 2019-2020, Budget 2020-2021, Revised  2020-2021, Budget 2021-2022]\n",
              "Index: []"
            ]
          },
          "metadata": {},
          "execution_count": 9
        }
      ]
    }
  ]
}