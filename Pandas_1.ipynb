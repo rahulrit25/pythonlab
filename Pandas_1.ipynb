{
  "nbformat": 4,
  "nbformat_minor": 0,
  "metadata": {
    "colab": {
      "name": "Pandas_1.ipynb",
      "provenance": [],
      "include_colab_link": true
    },
    "kernelspec": {
      "name": "python3",
      "display_name": "Python 3"
    },
    "language_info": {
      "name": "python"
    }
  },
  "cells": [
    {
      "cell_type": "markdown",
      "metadata": {
        "id": "view-in-github",
        "colab_type": "text"
      },
      "source": [
        "<a href=\"https://colab.research.google.com/github/rahulrit25/pythonlab/blob/main/Pandas_1.ipynb\" target=\"_parent\"><img src=\"https://colab.research.google.com/assets/colab-badge.svg\" alt=\"Open In Colab\"/></a>"
      ]
    },
    {
      "cell_type": "markdown",
      "metadata": {
        "id": "uc0ATTCGtGwJ"
      },
      "source": [
        "**Pandas is imported and ready to use**"
      ]
    },
    {
      "cell_type": "code",
      "metadata": {
        "id": "lPzcCkgYtRsy",
        "colab": {
          "base_uri": "https://localhost:8080/"
        },
        "outputId": "3129e2be-0353-4f6d-847b-685a9c1e301a"
      },
      "source": [
        "import pandas\n",
        "\n",
        "mydataset = {\n",
        "  'cars': [\"BMW\", \"Volvo\", \"Ford\"],\n",
        "  'passings': [3, 7, 2]\n",
        "}\n",
        "\n",
        "myvar = pandas.DataFrame(mydataset)\n",
        "\n",
        "print(myvar)"
      ],
      "execution_count": 1,
      "outputs": [
        {
          "output_type": "stream",
          "name": "stdout",
          "text": [
            "    cars  passings\n",
            "0    BMW         3\n",
            "1  Volvo         7\n",
            "2   Ford         2\n"
          ]
        }
      ]
    },
    {
      "cell_type": "markdown",
      "metadata": {
        "id": "CrdMf3A_tVJR"
      },
      "source": [
        "**Create an alias with the as keyword while importing**"
      ]
    },
    {
      "cell_type": "code",
      "metadata": {
        "id": "3m-UXO42tbHD",
        "colab": {
          "base_uri": "https://localhost:8080/"
        },
        "outputId": "c428101b-b0f7-4545-945f-7f2df358355c"
      },
      "source": [
        "import pandas as pd\n",
        "\n",
        "mydataset = {\n",
        "  'cars': [\"BMW\", \"Volvo\", \"Ford\"],\n",
        "  'passings': [3, 7, 2]\n",
        "}\n",
        "\n",
        "myvar = pd.DataFrame(mydataset)\n",
        "\n",
        "print(myvar)"
      ],
      "execution_count": 2,
      "outputs": [
        {
          "output_type": "stream",
          "name": "stdout",
          "text": [
            "    cars  passings\n",
            "0    BMW         3\n",
            "1  Volvo         7\n",
            "2   Ford         2\n"
          ]
        }
      ]
    },
    {
      "cell_type": "markdown",
      "metadata": {
        "id": "yFrMvtH2teYK"
      },
      "source": [
        "**Checking Pandas Version**"
      ]
    },
    {
      "cell_type": "code",
      "metadata": {
        "id": "JQULEc3Dtip6",
        "colab": {
          "base_uri": "https://localhost:8080/"
        },
        "outputId": "c545f624-e7e9-46c5-a9dd-154b42a52718"
      },
      "source": [
        "import pandas as pd\n",
        "\n",
        "print(pd.__version__)"
      ],
      "execution_count": 3,
      "outputs": [
        {
          "output_type": "stream",
          "name": "stdout",
          "text": [
            "1.1.5\n"
          ]
        }
      ]
    },
    {
      "cell_type": "markdown",
      "metadata": {
        "id": "SmnnEfa2tm-R"
      },
      "source": [
        "**A Pandas Series is like a column in a table.**"
      ]
    },
    {
      "cell_type": "code",
      "metadata": {
        "id": "w_2y6YwSttSV",
        "colab": {
          "base_uri": "https://localhost:8080/"
        },
        "outputId": "0efd9446-4fec-47b9-9a0c-d26651d2b905"
      },
      "source": [
        "import pandas as pd\n",
        "\n",
        "a = [1, 7, 2]\n",
        "\n",
        "myvar = pd.Series(a)\n",
        "\n",
        "print(myvar)"
      ],
      "execution_count": 4,
      "outputs": [
        {
          "output_type": "stream",
          "name": "stdout",
          "text": [
            "0    1\n",
            "1    7\n",
            "2    2\n",
            "dtype: int64\n"
          ]
        }
      ]
    },
    {
      "cell_type": "markdown",
      "metadata": {
        "id": "L0SZ-HwCtxMy"
      },
      "source": [
        "**With the index argument, you can name your own labels**"
      ]
    },
    {
      "cell_type": "code",
      "metadata": {
        "id": "jOxY29i9t5b6",
        "colab": {
          "base_uri": "https://localhost:8080/"
        },
        "outputId": "7ebeedc2-e266-4a98-e21d-15ee1ffe1a8e"
      },
      "source": [
        "import pandas as pd\n",
        "\n",
        "a = [1,7,2]\n",
        "\n",
        "myvar = pd.Series(a, index = [\"x\", \"y\", \"z\"])\n",
        "\n",
        "print(myvar)\n"
      ],
      "execution_count": 6,
      "outputs": [
        {
          "output_type": "stream",
          "name": "stdout",
          "text": [
            "x    1\n",
            "y    7\n",
            "z    2\n",
            "dtype: int64\n"
          ]
        }
      ]
    },
    {
      "cell_type": "markdown",
      "metadata": {
        "id": "C9avIlPft8iS"
      },
      "source": [
        "**Create a simple Pandas Series from a dictionary**"
      ]
    },
    {
      "cell_type": "code",
      "metadata": {
        "id": "-qzVNh9euFzS",
        "colab": {
          "base_uri": "https://localhost:8080/"
        },
        "outputId": "13e66f08-7119-4764-b5b5-fef4dcf74d88"
      },
      "source": [
        "import pandas as pd\n",
        "\n",
        "calories = {\"day1\": 420, \"day2\": 380, \"day3\": 390}\n",
        "\n",
        "myvar = pd.Series(calories)\n",
        "\n",
        "print(myvar)"
      ],
      "execution_count": 7,
      "outputs": [
        {
          "output_type": "stream",
          "name": "stdout",
          "text": [
            "day1    420\n",
            "day2    380\n",
            "day3    390\n",
            "dtype: int64\n"
          ]
        }
      ]
    },
    {
      "cell_type": "markdown",
      "metadata": {
        "id": "gc3IFhmKuHs0"
      },
      "source": [
        "**Create a Series using only data from \"day1\" and \"day2\"**"
      ]
    },
    {
      "cell_type": "code",
      "metadata": {
        "id": "S2BJ_cbHuQ_Z",
        "colab": {
          "base_uri": "https://localhost:8080/"
        },
        "outputId": "7b48aea5-c1cb-475e-94e0-1725b886e47f"
      },
      "source": [
        "import pandas as pd\n",
        "\n",
        "calories = {\"day1\": 420, \"day2\": 380, \"day3\": 390}\n",
        "\n",
        "myvar = pd.Series(calories, index = [\"day1\", \"day2\"])\n",
        "\n",
        "print(myvar)"
      ],
      "execution_count": 8,
      "outputs": [
        {
          "output_type": "stream",
          "name": "stdout",
          "text": [
            "day1    420\n",
            "day2    380\n",
            "dtype: int64\n"
          ]
        }
      ]
    },
    {
      "cell_type": "markdown",
      "metadata": {
        "id": "WhcZagowufzj"
      },
      "source": [
        "**Create a DataFrame from two Series**"
      ]
    },
    {
      "cell_type": "code",
      "metadata": {
        "id": "nCyIJQ81ul_q",
        "colab": {
          "base_uri": "https://localhost:8080/"
        },
        "outputId": "6b82d6a7-9aa9-4971-eeec-5023e698d9a2"
      },
      "source": [
        "import pandas as pd\n",
        "\n",
        "data = {\n",
        "  \"calories\": [420, 380, 390],\n",
        "  \"duration\": [50, 40, 45]\n",
        "}\n",
        "\n",
        "myvar = pd.DataFrame(data)\n",
        "\n",
        "print(myvar)"
      ],
      "execution_count": 9,
      "outputs": [
        {
          "output_type": "stream",
          "name": "stdout",
          "text": [
            "   calories  duration\n",
            "0       420        50\n",
            "1       380        40\n",
            "2       390        45\n"
          ]
        }
      ]
    },
    {
      "cell_type": "markdown",
      "metadata": {
        "id": "wyycZ6-Cu1TT"
      },
      "source": [
        "**Create a simple Pandas DataFrame**"
      ]
    },
    {
      "cell_type": "code",
      "metadata": {
        "id": "KOH0XA1lu3oB",
        "colab": {
          "base_uri": "https://localhost:8080/"
        },
        "outputId": "c56296e8-ab53-4702-a40b-c21ef94e8eae"
      },
      "source": [
        "import pandas as pd\n",
        "\n",
        "data = {\n",
        "  \"calories\": [420, 380, 390],\n",
        "  \"duration\": [50, 40, 45]\n",
        "}\n",
        "\n",
        "#load data into a DataFrame object:\n",
        "df = pd.DataFrame(data)\n",
        "\n",
        "print(df) "
      ],
      "execution_count": 10,
      "outputs": [
        {
          "output_type": "stream",
          "name": "stdout",
          "text": [
            "   calories  duration\n",
            "0       420        50\n",
            "1       380        40\n",
            "2       390        45\n"
          ]
        }
      ]
    },
    {
      "cell_type": "markdown",
      "metadata": {
        "id": "DsgdGs0mu7KE"
      },
      "source": [
        "**With the index argument, you can name your own indexes**"
      ]
    },
    {
      "cell_type": "code",
      "metadata": {
        "id": "wBRrcnhIvE75",
        "colab": {
          "base_uri": "https://localhost:8080/"
        },
        "outputId": "d1233c3f-95c8-4315-a74b-9eeabb10b5f7"
      },
      "source": [
        "import pandas as pd\n",
        "\n",
        "data = {\n",
        "  \"calories\": [420, 380, 390],\n",
        "  \"duration\": [50, 40, 45]\n",
        "}\n",
        "\n",
        "df = pd.DataFrame(data, index = [\"day1\", \"day2\", \"day3\"])\n",
        "\n",
        "print(df) "
      ],
      "execution_count": 11,
      "outputs": [
        {
          "output_type": "stream",
          "name": "stdout",
          "text": [
            "      calories  duration\n",
            "day1       420        50\n",
            "day2       380        40\n",
            "day3       390        45\n"
          ]
        }
      ]
    }
  ]
}