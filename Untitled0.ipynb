{
  "nbformat": 4,
  "nbformat_minor": 0,
  "metadata": {
    "colab": {
      "name": "Untitled0.ipynb",
      "provenance": [],
      "authorship_tag": "ABX9TyPQN74tegO3N7kTAd4XVPUx",
      "include_colab_link": true
    },
    "kernelspec": {
      "name": "python3",
      "display_name": "Python 3"
    },
    "language_info": {
      "name": "python"
    }
  },
  "cells": [
    {
      "cell_type": "markdown",
      "metadata": {
        "id": "view-in-github",
        "colab_type": "text"
      },
      "source": [
        "<a href=\"https://colab.research.google.com/github/rahulrit25/pythonlab/blob/main/Untitled0.ipynb\" target=\"_parent\"><img src=\"https://colab.research.google.com/assets/colab-badge.svg\" alt=\"Open In Colab\"/></a>"
      ]
    },
    {
      "cell_type": "code",
      "execution_count": 2,
      "metadata": {
        "colab": {
          "base_uri": "https://localhost:8080/"
        },
        "id": "wOCcY-VZ52oy",
        "outputId": "d29f17ee-baed-41d9-8318-21bab06f7aa7"
      },
      "outputs": [
        {
          "output_type": "stream",
          "name": "stdout",
          "text": [
            "['apple', 'watermelon', 'guava', 'orange', 'lichi']\n"
          ]
        }
      ],
      "source": [
        "list=[\"apple\",\"banana\",\"mango\",\"orange\",\"lichi\"]\n",
        "list[1:3]=[\"watermelon\",\"guava\"]\n",
        "print(list)"
      ]
    },
    {
      "cell_type": "code",
      "source": [
        "list=[\"apple\",\"orange\",\"mango\"]\n",
        "list[2:3]=[\"water\"]\n",
        "print(list)\n"
      ],
      "metadata": {
        "id": "bCloMGHI7hIO",
        "outputId": "d21e1870-1538-4505-f4e3-ec75432c5bf5",
        "colab": {
          "base_uri": "https://localhost:8080/"
        }
      },
      "execution_count": 4,
      "outputs": [
        {
          "output_type": "stream",
          "name": "stdout",
          "text": [
            "['apple', 'orange', 'water']\n"
          ]
        }
      ]
    },
    {
      "cell_type": "code",
      "source": [
        "list=[\"apple\",\"orange\",\"mango\"]\n",
        "for x in list:\n",
        "  print(x)"
      ],
      "metadata": {
        "id": "y-x9ft_v_PZQ",
        "outputId": "cdb4380f-af4c-4edd-d9a8-44848732886c",
        "colab": {
          "base_uri": "https://localhost:8080/"
        }
      },
      "execution_count": 7,
      "outputs": [
        {
          "output_type": "stream",
          "name": "stdout",
          "text": [
            "apple\n",
            "orange\n",
            "mango\n"
          ]
        }
      ]
    }
  ]
}